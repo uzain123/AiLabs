{
  "nbformat": 4,
  "nbformat_minor": 0,
  "metadata": {
    "colab": {
      "provenance": []
    },
    "kernelspec": {
      "name": "python3",
      "display_name": "Python 3"
    },
    "language_info": {
      "name": "python"
    }
  },
  "cells": [
    {
      "cell_type": "code",
      "execution_count": null,
      "metadata": {
        "colab": {
          "base_uri": "https://localhost:8080/"
        },
        "id": "zej2YU1wurPL",
        "outputId": "9851ac6e-82ee-4626-8d84-f649147d3e04"
      },
      "outputs": [
        {
          "output_type": "stream",
          "name": "stdout",
          "text": [
            "+---------------+-------------------+\n",
            "| TakeSelfie    |   phi(TakeSelfie) |\n",
            "+===============+===================+\n",
            "| TakeSelfie(0) |            0.3800 |\n",
            "+---------------+-------------------+\n",
            "| TakeSelfie(1) |            0.6200 |\n",
            "+---------------+-------------------+\n"
          ]
        }
      ],
      "source": [
        "#SELFIE QUESTION\n",
        "from pgmpy.models import DiscreteBayesianNetwork\n",
        "from pgmpy.factors.discrete import TabularCPD\n",
        "from pgmpy.inference import VariableElimination\n",
        "\n",
        "model = DiscreteBayesianNetwork([\n",
        "    (\"OutfitType\", \"ConfidenceLevel\"),\n",
        "    (\"ConfidenceLevel\", \"TakeSelfie\")\n",
        "])\n",
        "\n",
        "cpd_outfit = TabularCPD(\"OutfitType\", 2, [[0.5], [0.5]])  # 0 = Casual, 1 = Stylish\n",
        "\n",
        "cpd_confidence = TabularCPD(\"ConfidenceLevel\", 2,\n",
        "    values=[[0.7, 0.3],\n",
        "            [0.3, 0.7]],\n",
        "    evidence=[\"OutfitType\"],\n",
        "    evidence_card=[2]\n",
        ")\n",
        "\n",
        "cpd_selfie = TabularCPD(\"TakeSelfie\", 2,\n",
        "    values=[[0.8, 0.2],  # No Selfie\n",
        "            [0.2, 0.8]],  # Takes Selfie\n",
        "    evidence=[\"ConfidenceLevel\"],\n",
        "    evidence_card=[2]\n",
        ")\n",
        "\n",
        "\n",
        "model.add_cpds(cpd_outfit, cpd_confidence, cpd_selfie)\n",
        "\n",
        "infer = VariableElimination(model)\n",
        "\n",
        "result = infer.query([\"TakeSelfie\"], evidence={\"OutfitType\": 1})\n",
        "print(result)\n"
      ]
    },
    {
      "cell_type": "code",
      "source": [
        "#TASK 1\n",
        "even_numbers = [2, 4, 6]\n",
        "greater_than_4 = [5, 6]\n",
        "less_than_3 = [1, 2]\n",
        "\n",
        "prob_even = len(even_numbers) / 6\n",
        "prob_gt4 = len(greater_than_4) / 6\n",
        "prob_lt3 = len(less_than_3) / 6\n",
        "\n",
        "total_outcomes = 6 * 6\n",
        "sum_7_or_more = [(i, j) for i in range(1, 7) for j in range(1, 7) if i + j >= 7]\n",
        "sum_8 = [(i, j) for i in range(1, 7) for j in range(1, 7) if i + j == 8]\n",
        "\n",
        "first_gt4_second_odd = [(i, j) for i in [5, 6] for j in range(1, 7) if j % 2 == 1]\n",
        "total_gt4_first = 2 * 6\n",
        "\n",
        "print(\"P(even number) =\", prob_even)\n",
        "print(\"P(number > 4) =\", prob_gt4)\n",
        "print(\"P(number < 3) =\", prob_lt3)\n",
        "print(\"P(sum >= 7) =\", len(sum_7_or_more) / total_outcomes)\n",
        "print(\"P(sum == 8) =\", len(sum_8) / total_outcomes)\n",
        "print(\"P(second die is odd | first die > 4) =\", len(first_gt4_second_odd) / total_gt4_first)\n"
      ],
      "metadata": {
        "colab": {
          "base_uri": "https://localhost:8080/"
        },
        "id": "M-Y_7qaV2RP3",
        "outputId": "4cfa8506-01ff-429a-e768-c2212f9aef4a"
      },
      "execution_count": null,
      "outputs": [
        {
          "output_type": "stream",
          "name": "stdout",
          "text": [
            "P(even number) = 0.5\n",
            "P(number > 4) = 0.3333333333333333\n",
            "P(number < 3) = 0.3333333333333333\n",
            "P(sum >= 7) = 0.5833333333333334\n",
            "P(sum == 8) = 0.1388888888888889\n",
            "P(second die is odd | first die > 4) = 0.5\n"
          ]
        }
      ]
    },
    {
      "cell_type": "code",
      "source": [
        "#TASK 3\n",
        "red_cards = 26\n",
        "hearts = 13\n",
        "diamonds = 13\n",
        "face_cards = 12\n",
        "diamond_faces = 3\n",
        "spade_faces = 3\n",
        "queens = 4\n",
        "queen_spade_or_queen = 4\n",
        "\n",
        "prob_red = red_cards / 52\n",
        "prob_heart_given_red = hearts / red_cards\n",
        "prob_diamond_given_face = diamond_faces / face_cards\n",
        "prob_spade_or_queen_given_face = (3 + 1) / face_cards\n",
        "\n",
        "print(\"P(red card) =\", prob_red)\n",
        "print(\"P(heart | red) =\", prob_heart_given_red)\n",
        "print(\"P(diamond | face card) =\", prob_diamond_given_face)\n",
        "print(\"P(spade or queen | face card) =\", prob_spade_or_queen_given_face)\n"
      ],
      "metadata": {
        "colab": {
          "base_uri": "https://localhost:8080/"
        },
        "id": "R_62GTnA2_Kh",
        "outputId": "2efd8924-4c2f-4a33-c5a0-c46277339f6c"
      },
      "execution_count": null,
      "outputs": [
        {
          "output_type": "stream",
          "name": "stdout",
          "text": [
            "P(red card) = 0.5\n",
            "P(heart | red) = 0.5\n",
            "P(diamond | face card) = 0.25\n",
            "P(spade or queen | face card) = 0.3333333333333333\n"
          ]
        }
      ]
    },
    {
      "cell_type": "code",
      "source": [
        "#TASK 4\n",
        "from pgmpy.models import BayesianNetwork\n",
        "from pgmpy.factors.discrete import TabularCPD\n",
        "from pgmpy.inference import VariableElimination\n",
        "\n",
        "model = DiscreteBayesianNetwork([\n",
        "    (\"Disease\", \"Fever\"),\n",
        "    (\"Disease\", \"Cough\"),\n",
        "    (\"Disease\", \"Fatigue\"),\n",
        "    (\"Disease\", \"Chills\")\n",
        "])\n",
        "\n",
        "cpd_disease = TabularCPD(\"Disease\", 2, [[0.3], [0.7]])  # 0 = flu, 1 = cold\n",
        "\n",
        "cpd_fever = TabularCPD(\"Fever\", 2, [[0.8, 0.3], [0.2, 0.7]], evidence=[\"Disease\"], evidence_card=[2])\n",
        "cpd_cough = TabularCPD(\"Cough\", 2, [[0.7, 0.4], [0.3, 0.6]], evidence=[\"Disease\"], evidence_card=[2])\n",
        "cpd_fatigue = TabularCPD(\"Fatigue\", 2, [[0.6, 0.2], [0.4, 0.8]], evidence=[\"Disease\"], evidence_card=[2])\n",
        "cpd_chills = TabularCPD(\"Chills\", 2, [[0.5, 0.1], [0.5, 0.9]], evidence=[\"Disease\"], evidence_card=[2])\n",
        "\n",
        "model.add_cpds(cpd_disease, cpd_fever, cpd_cough, cpd_fatigue, cpd_chills)\n",
        "\n",
        "infer = VariableElimination(model)\n",
        "\n",
        "result1 = infer.query([\"Disease\"], evidence={\"Fever\": 0, \"Cough\": 0})\n",
        "result2 = infer.query([\"Disease\"], evidence={\"Fever\": 0, \"Cough\": 0, \"Chills\": 0})\n",
        "result3 = infer.query([\"Fatigue\"], evidence={\"Disease\": 0})\n",
        "\n",
        "print(\"P(Disease | Fever, Cough) =\", result1)\n",
        "print(\"P(Disease | Fever, Cough, Chills) =\", result2)\n",
        "print(\"P(Fatigue | Disease = Flu) =\", result3)\n"
      ],
      "metadata": {
        "colab": {
          "base_uri": "https://localhost:8080/"
        },
        "id": "39FjPPV17CCe",
        "outputId": "471f11eb-79a2-431b-e117-efd4d32fc72b"
      },
      "execution_count": null,
      "outputs": [
        {
          "output_type": "stream",
          "name": "stdout",
          "text": [
            "P(Disease | Fever, Cough) = +------------+----------------+\n",
            "| Disease    |   phi(Disease) |\n",
            "+============+================+\n",
            "| Disease(0) |         0.6667 |\n",
            "+------------+----------------+\n",
            "| Disease(1) |         0.3333 |\n",
            "+------------+----------------+\n",
            "P(Disease | Fever, Cough, Chills) = +------------+----------------+\n",
            "| Disease    |   phi(Disease) |\n",
            "+============+================+\n",
            "| Disease(0) |         0.9091 |\n",
            "+------------+----------------+\n",
            "| Disease(1) |         0.0909 |\n",
            "+------------+----------------+\n",
            "P(Fatigue | Disease = Flu) = +------------+----------------+\n",
            "| Fatigue    |   phi(Fatigue) |\n",
            "+============+================+\n",
            "| Fatigue(0) |         0.6000 |\n",
            "+------------+----------------+\n",
            "| Fatigue(1) |         0.4000 |\n",
            "+------------+----------------+\n"
          ]
        }
      ]
    },
    {
      "cell_type": "code",
      "source": [
        "#TASK 5\n",
        "import numpy as np\n",
        "\n",
        "states = ['Sunny', 'Cloudy', 'Rainy']\n",
        "\n",
        "transition_matrix = np.array([\n",
        "    [0.6, 0.3, 0.1],\n",
        "    [0.4, 0.4, 0.2],\n",
        "    [0.2, 0.3, 0.5]\n",
        "])\n",
        "\n",
        "def simulate_weather(start_state, transition_matrix, days):\n",
        "    current_state = start_state\n",
        "    sequence = [current_state]\n",
        "\n",
        "    for _ in range(days - 1):\n",
        "        probs = transition_matrix[current_state]\n",
        "        next_state = np.random.choice(len(states), p=probs)\n",
        "        sequence.append(next_state)\n",
        "        current_state = next_state\n",
        "\n",
        "    return sequence\n",
        "\n",
        "def probability_at_least_k_rainy(simulations, k):\n",
        "    rainy_counts = [seq.count(2) for seq in simulations]\n",
        "    at_least_k = sum(1 for count in rainy_counts if count >= k)\n",
        "    return at_least_k / len(simulations)\n",
        "\n",
        "start_state = 0\n",
        "days = 10\n",
        "num_simulations = 10000\n",
        "k = 3\n",
        "\n",
        "simulations = [simulate_weather(start_state, transition_matrix, days) for _ in range(num_simulations)]\n",
        "\n",
        "prob = probability_at_least_k_rainy(simulations, k)\n",
        "\n",
        "print(\"Transition Matrix:\")\n",
        "for i, row in enumerate(transition_matrix):\n",
        "    print(f\"From {states[i]}: {dict(zip(states, row))}\")\n",
        "\n",
        "print(\"\\nExample 10-day simulation:\")\n",
        "print([states[s] for s in simulations[0]])\n",
        "\n",
        "print(f\"\\nProbability of at least {k} rainy days in {days} days: {prob:.4f}\")"
      ],
      "metadata": {
        "colab": {
          "base_uri": "https://localhost:8080/"
        },
        "id": "toD5Bb8O7vox",
        "outputId": "8f6352ff-e078-493e-e59c-158a37b68f17"
      },
      "execution_count": null,
      "outputs": [
        {
          "output_type": "stream",
          "name": "stdout",
          "text": [
            "Transition Matrix:\n",
            "From Sunny: {'Sunny': np.float64(0.6), 'Cloudy': np.float64(0.3), 'Rainy': np.float64(0.1)}\n",
            "From Cloudy: {'Sunny': np.float64(0.4), 'Cloudy': np.float64(0.4), 'Rainy': np.float64(0.2)}\n",
            "From Rainy: {'Sunny': np.float64(0.2), 'Cloudy': np.float64(0.3), 'Rainy': np.float64(0.5)}\n",
            "\n",
            "Example 10-day simulation:\n",
            "['Sunny', 'Cloudy', 'Cloudy', 'Sunny', 'Cloudy', 'Rainy', 'Rainy', 'Rainy', 'Rainy', 'Cloudy']\n",
            "\n",
            "Probability of at least 3 rainy days in 10 days: 0.2900\n"
          ]
        }
      ]
    },
    {
      "cell_type": "code",
      "source": [
        "!pip install pgmpy\n"
      ],
      "metadata": {
        "colab": {
          "base_uri": "https://localhost:8080/"
        },
        "id": "V76If-cVw1PD",
        "outputId": "d530b04d-f295-4696-b8cf-f3a97d1a2c9d"
      },
      "execution_count": null,
      "outputs": [
        {
          "output_type": "stream",
          "name": "stdout",
          "text": [
            "Collecting pgmpy\n",
            "  Downloading pgmpy-1.0.0-py3-none-any.whl.metadata (9.4 kB)\n",
            "Requirement already satisfied: networkx in /usr/local/lib/python3.11/dist-packages (from pgmpy) (3.4.2)\n",
            "Requirement already satisfied: numpy in /usr/local/lib/python3.11/dist-packages (from pgmpy) (2.0.2)\n",
            "Requirement already satisfied: scipy in /usr/local/lib/python3.11/dist-packages (from pgmpy) (1.14.1)\n",
            "Requirement already satisfied: scikit-learn in /usr/local/lib/python3.11/dist-packages (from pgmpy) (1.6.1)\n",
            "Requirement already satisfied: pandas in /usr/local/lib/python3.11/dist-packages (from pgmpy) (2.2.2)\n",
            "Requirement already satisfied: torch in /usr/local/lib/python3.11/dist-packages (from pgmpy) (2.6.0+cu124)\n",
            "Requirement already satisfied: statsmodels in /usr/local/lib/python3.11/dist-packages (from pgmpy) (0.14.4)\n",
            "Requirement already satisfied: tqdm in /usr/local/lib/python3.11/dist-packages (from pgmpy) (4.67.1)\n",
            "Requirement already satisfied: joblib in /usr/local/lib/python3.11/dist-packages (from pgmpy) (1.4.2)\n",
            "Requirement already satisfied: opt-einsum in /usr/local/lib/python3.11/dist-packages (from pgmpy) (3.4.0)\n",
            "Collecting pyro-ppl (from pgmpy)\n",
            "  Downloading pyro_ppl-1.9.1-py3-none-any.whl.metadata (7.8 kB)\n",
            "Requirement already satisfied: python-dateutil>=2.8.2 in /usr/local/lib/python3.11/dist-packages (from pandas->pgmpy) (2.8.2)\n",
            "Requirement already satisfied: pytz>=2020.1 in /usr/local/lib/python3.11/dist-packages (from pandas->pgmpy) (2025.2)\n",
            "Requirement already satisfied: tzdata>=2022.7 in /usr/local/lib/python3.11/dist-packages (from pandas->pgmpy) (2025.2)\n",
            "Collecting pyro-api>=0.1.1 (from pyro-ppl->pgmpy)\n",
            "  Downloading pyro_api-0.1.2-py3-none-any.whl.metadata (2.5 kB)\n",
            "Requirement already satisfied: filelock in /usr/local/lib/python3.11/dist-packages (from torch->pgmpy) (3.18.0)\n",
            "Requirement already satisfied: typing-extensions>=4.10.0 in /usr/local/lib/python3.11/dist-packages (from torch->pgmpy) (4.13.2)\n",
            "Requirement already satisfied: jinja2 in /usr/local/lib/python3.11/dist-packages (from torch->pgmpy) (3.1.6)\n",
            "Requirement already satisfied: fsspec in /usr/local/lib/python3.11/dist-packages (from torch->pgmpy) (2025.3.2)\n",
            "Collecting nvidia-cuda-nvrtc-cu12==12.4.127 (from torch->pgmpy)\n",
            "  Downloading nvidia_cuda_nvrtc_cu12-12.4.127-py3-none-manylinux2014_x86_64.whl.metadata (1.5 kB)\n",
            "Collecting nvidia-cuda-runtime-cu12==12.4.127 (from torch->pgmpy)\n",
            "  Downloading nvidia_cuda_runtime_cu12-12.4.127-py3-none-manylinux2014_x86_64.whl.metadata (1.5 kB)\n",
            "Collecting nvidia-cuda-cupti-cu12==12.4.127 (from torch->pgmpy)\n",
            "  Downloading nvidia_cuda_cupti_cu12-12.4.127-py3-none-manylinux2014_x86_64.whl.metadata (1.6 kB)\n",
            "Collecting nvidia-cudnn-cu12==9.1.0.70 (from torch->pgmpy)\n",
            "  Downloading nvidia_cudnn_cu12-9.1.0.70-py3-none-manylinux2014_x86_64.whl.metadata (1.6 kB)\n",
            "Collecting nvidia-cublas-cu12==12.4.5.8 (from torch->pgmpy)\n",
            "  Downloading nvidia_cublas_cu12-12.4.5.8-py3-none-manylinux2014_x86_64.whl.metadata (1.5 kB)\n",
            "Collecting nvidia-cufft-cu12==11.2.1.3 (from torch->pgmpy)\n",
            "  Downloading nvidia_cufft_cu12-11.2.1.3-py3-none-manylinux2014_x86_64.whl.metadata (1.5 kB)\n",
            "Collecting nvidia-curand-cu12==10.3.5.147 (from torch->pgmpy)\n",
            "  Downloading nvidia_curand_cu12-10.3.5.147-py3-none-manylinux2014_x86_64.whl.metadata (1.5 kB)\n",
            "Collecting nvidia-cusolver-cu12==11.6.1.9 (from torch->pgmpy)\n",
            "  Downloading nvidia_cusolver_cu12-11.6.1.9-py3-none-manylinux2014_x86_64.whl.metadata (1.6 kB)\n",
            "Collecting nvidia-cusparse-cu12==12.3.1.170 (from torch->pgmpy)\n",
            "  Downloading nvidia_cusparse_cu12-12.3.1.170-py3-none-manylinux2014_x86_64.whl.metadata (1.6 kB)\n",
            "Requirement already satisfied: nvidia-cusparselt-cu12==0.6.2 in /usr/local/lib/python3.11/dist-packages (from torch->pgmpy) (0.6.2)\n",
            "Requirement already satisfied: nvidia-nccl-cu12==2.21.5 in /usr/local/lib/python3.11/dist-packages (from torch->pgmpy) (2.21.5)\n",
            "Requirement already satisfied: nvidia-nvtx-cu12==12.4.127 in /usr/local/lib/python3.11/dist-packages (from torch->pgmpy) (12.4.127)\n",
            "Collecting nvidia-nvjitlink-cu12==12.4.127 (from torch->pgmpy)\n",
            "  Downloading nvidia_nvjitlink_cu12-12.4.127-py3-none-manylinux2014_x86_64.whl.metadata (1.5 kB)\n",
            "Requirement already satisfied: triton==3.2.0 in /usr/local/lib/python3.11/dist-packages (from torch->pgmpy) (3.2.0)\n",
            "Requirement already satisfied: sympy==1.13.1 in /usr/local/lib/python3.11/dist-packages (from torch->pgmpy) (1.13.1)\n",
            "Requirement already satisfied: mpmath<1.4,>=1.1.0 in /usr/local/lib/python3.11/dist-packages (from sympy==1.13.1->torch->pgmpy) (1.3.0)\n",
            "Requirement already satisfied: threadpoolctl>=3.1.0 in /usr/local/lib/python3.11/dist-packages (from scikit-learn->pgmpy) (3.6.0)\n",
            "Requirement already satisfied: patsy>=0.5.6 in /usr/local/lib/python3.11/dist-packages (from statsmodels->pgmpy) (1.0.1)\n",
            "Requirement already satisfied: packaging>=21.3 in /usr/local/lib/python3.11/dist-packages (from statsmodels->pgmpy) (24.2)\n",
            "Requirement already satisfied: six>=1.5 in /usr/local/lib/python3.11/dist-packages (from python-dateutil>=2.8.2->pandas->pgmpy) (1.17.0)\n",
            "Requirement already satisfied: MarkupSafe>=2.0 in /usr/local/lib/python3.11/dist-packages (from jinja2->torch->pgmpy) (3.0.2)\n",
            "Downloading pgmpy-1.0.0-py3-none-any.whl (2.0 MB)\n",
            "\u001b[2K   \u001b[90m━━━━━━━━━━━━━━━━━━━━━━━━━━━━━━━━━━━━━━━━\u001b[0m \u001b[32m2.0/2.0 MB\u001b[0m \u001b[31m23.9 MB/s\u001b[0m eta \u001b[36m0:00:00\u001b[0m\n",
            "\u001b[?25hDownloading pyro_ppl-1.9.1-py3-none-any.whl (755 kB)\n",
            "\u001b[2K   \u001b[90m━━━━━━━━━━━━━━━━━━━━━━━━━━━━━━━━━━━━━━━━\u001b[0m \u001b[32m756.0/756.0 kB\u001b[0m \u001b[31m43.4 MB/s\u001b[0m eta \u001b[36m0:00:00\u001b[0m\n",
            "\u001b[?25hDownloading nvidia_cublas_cu12-12.4.5.8-py3-none-manylinux2014_x86_64.whl (363.4 MB)\n",
            "\u001b[2K   \u001b[90m━━━━━━━━━━━━━━━━━━━━━━━━━━━━━━━━━━━━━━━━\u001b[0m \u001b[32m363.4/363.4 MB\u001b[0m \u001b[31m3.2 MB/s\u001b[0m eta \u001b[36m0:00:00\u001b[0m\n",
            "\u001b[?25hDownloading nvidia_cuda_cupti_cu12-12.4.127-py3-none-manylinux2014_x86_64.whl (13.8 MB)\n",
            "\u001b[2K   \u001b[90m━━━━━━━━━━━━━━━━━━━━━━━━━━━━━━━━━━━━━━━━\u001b[0m \u001b[32m13.8/13.8 MB\u001b[0m \u001b[31m72.7 MB/s\u001b[0m eta \u001b[36m0:00:00\u001b[0m\n",
            "\u001b[?25hDownloading nvidia_cuda_nvrtc_cu12-12.4.127-py3-none-manylinux2014_x86_64.whl (24.6 MB)\n",
            "\u001b[2K   \u001b[90m━━━━━━━━━━━━━━━━━━━━━━━━━━━━━━━━━━━━━━━━\u001b[0m \u001b[32m24.6/24.6 MB\u001b[0m \u001b[31m59.0 MB/s\u001b[0m eta \u001b[36m0:00:00\u001b[0m\n",
            "\u001b[?25hDownloading nvidia_cuda_runtime_cu12-12.4.127-py3-none-manylinux2014_x86_64.whl (883 kB)\n",
            "\u001b[2K   \u001b[90m━━━━━━━━━━━━━━━━━━━━━━━━━━━━━━━━━━━━━━━━\u001b[0m \u001b[32m883.7/883.7 kB\u001b[0m \u001b[31m34.0 MB/s\u001b[0m eta \u001b[36m0:00:00\u001b[0m\n",
            "\u001b[?25hDownloading nvidia_cudnn_cu12-9.1.0.70-py3-none-manylinux2014_x86_64.whl (664.8 MB)\n",
            "\u001b[2K   \u001b[90m━━━━━━━━━━━━━━━━━━━━━━━━━━━━━━━━━━━━━━━━\u001b[0m \u001b[32m664.8/664.8 MB\u001b[0m \u001b[31m1.7 MB/s\u001b[0m eta \u001b[36m0:00:00\u001b[0m\n",
            "\u001b[?25hDownloading nvidia_cufft_cu12-11.2.1.3-py3-none-manylinux2014_x86_64.whl (211.5 MB)\n",
            "\u001b[2K   \u001b[90m━━━━━━━━━━━━━━━━━━━━━━━━━━━━━━━━━━━━━━━━\u001b[0m \u001b[32m211.5/211.5 MB\u001b[0m \u001b[31m5.2 MB/s\u001b[0m eta \u001b[36m0:00:00\u001b[0m\n",
            "\u001b[?25hDownloading nvidia_curand_cu12-10.3.5.147-py3-none-manylinux2014_x86_64.whl (56.3 MB)\n",
            "\u001b[2K   \u001b[90m━━━━━━━━━━━━━━━━━━━━━━━━━━━━━━━━━━━━━━━━\u001b[0m \u001b[32m56.3/56.3 MB\u001b[0m \u001b[31m12.3 MB/s\u001b[0m eta \u001b[36m0:00:00\u001b[0m\n",
            "\u001b[?25hDownloading nvidia_cusolver_cu12-11.6.1.9-py3-none-manylinux2014_x86_64.whl (127.9 MB)\n",
            "\u001b[2K   \u001b[90m━━━━━━━━━━━━━━━━━━━━━━━━━━━━━━━━━━━━━━━━\u001b[0m \u001b[32m127.9/127.9 MB\u001b[0m \u001b[31m7.1 MB/s\u001b[0m eta \u001b[36m0:00:00\u001b[0m\n",
            "\u001b[?25hDownloading nvidia_cusparse_cu12-12.3.1.170-py3-none-manylinux2014_x86_64.whl (207.5 MB)\n",
            "\u001b[2K   \u001b[90m━━━━━━━━━━━━━━━━━━━━━━━━━━━━━━━━━━━━━━━━\u001b[0m \u001b[32m207.5/207.5 MB\u001b[0m \u001b[31m6.2 MB/s\u001b[0m eta \u001b[36m0:00:00\u001b[0m\n",
            "\u001b[?25hDownloading nvidia_nvjitlink_cu12-12.4.127-py3-none-manylinux2014_x86_64.whl (21.1 MB)\n",
            "\u001b[2K   \u001b[90m━━━━━━━━━━━━━━━━━━━━━━━━━━━━━━━━━━━━━━━━\u001b[0m \u001b[32m21.1/21.1 MB\u001b[0m \u001b[31m66.0 MB/s\u001b[0m eta \u001b[36m0:00:00\u001b[0m\n",
            "\u001b[?25hDownloading pyro_api-0.1.2-py3-none-any.whl (11 kB)\n",
            "Installing collected packages: pyro-api, nvidia-nvjitlink-cu12, nvidia-curand-cu12, nvidia-cufft-cu12, nvidia-cuda-runtime-cu12, nvidia-cuda-nvrtc-cu12, nvidia-cuda-cupti-cu12, nvidia-cublas-cu12, nvidia-cusparse-cu12, nvidia-cudnn-cu12, nvidia-cusolver-cu12, pyro-ppl, pgmpy\n",
            "  Attempting uninstall: nvidia-nvjitlink-cu12\n",
            "    Found existing installation: nvidia-nvjitlink-cu12 12.5.82\n",
            "    Uninstalling nvidia-nvjitlink-cu12-12.5.82:\n",
            "      Successfully uninstalled nvidia-nvjitlink-cu12-12.5.82\n",
            "  Attempting uninstall: nvidia-curand-cu12\n",
            "    Found existing installation: nvidia-curand-cu12 10.3.6.82\n",
            "    Uninstalling nvidia-curand-cu12-10.3.6.82:\n",
            "      Successfully uninstalled nvidia-curand-cu12-10.3.6.82\n",
            "  Attempting uninstall: nvidia-cufft-cu12\n",
            "    Found existing installation: nvidia-cufft-cu12 11.2.3.61\n",
            "    Uninstalling nvidia-cufft-cu12-11.2.3.61:\n",
            "      Successfully uninstalled nvidia-cufft-cu12-11.2.3.61\n",
            "  Attempting uninstall: nvidia-cuda-runtime-cu12\n",
            "    Found existing installation: nvidia-cuda-runtime-cu12 12.5.82\n",
            "    Uninstalling nvidia-cuda-runtime-cu12-12.5.82:\n",
            "      Successfully uninstalled nvidia-cuda-runtime-cu12-12.5.82\n",
            "  Attempting uninstall: nvidia-cuda-nvrtc-cu12\n",
            "    Found existing installation: nvidia-cuda-nvrtc-cu12 12.5.82\n",
            "    Uninstalling nvidia-cuda-nvrtc-cu12-12.5.82:\n",
            "      Successfully uninstalled nvidia-cuda-nvrtc-cu12-12.5.82\n",
            "  Attempting uninstall: nvidia-cuda-cupti-cu12\n",
            "    Found existing installation: nvidia-cuda-cupti-cu12 12.5.82\n",
            "    Uninstalling nvidia-cuda-cupti-cu12-12.5.82:\n",
            "      Successfully uninstalled nvidia-cuda-cupti-cu12-12.5.82\n",
            "  Attempting uninstall: nvidia-cublas-cu12\n",
            "    Found existing installation: nvidia-cublas-cu12 12.5.3.2\n",
            "    Uninstalling nvidia-cublas-cu12-12.5.3.2:\n",
            "      Successfully uninstalled nvidia-cublas-cu12-12.5.3.2\n",
            "  Attempting uninstall: nvidia-cusparse-cu12\n",
            "    Found existing installation: nvidia-cusparse-cu12 12.5.1.3\n",
            "    Uninstalling nvidia-cusparse-cu12-12.5.1.3:\n",
            "      Successfully uninstalled nvidia-cusparse-cu12-12.5.1.3\n",
            "  Attempting uninstall: nvidia-cudnn-cu12\n",
            "    Found existing installation: nvidia-cudnn-cu12 9.3.0.75\n",
            "    Uninstalling nvidia-cudnn-cu12-9.3.0.75:\n",
            "      Successfully uninstalled nvidia-cudnn-cu12-9.3.0.75\n",
            "  Attempting uninstall: nvidia-cusolver-cu12\n",
            "    Found existing installation: nvidia-cusolver-cu12 11.6.3.83\n",
            "    Uninstalling nvidia-cusolver-cu12-11.6.3.83:\n",
            "      Successfully uninstalled nvidia-cusolver-cu12-11.6.3.83\n",
            "Successfully installed nvidia-cublas-cu12-12.4.5.8 nvidia-cuda-cupti-cu12-12.4.127 nvidia-cuda-nvrtc-cu12-12.4.127 nvidia-cuda-runtime-cu12-12.4.127 nvidia-cudnn-cu12-9.1.0.70 nvidia-cufft-cu12-11.2.1.3 nvidia-curand-cu12-10.3.5.147 nvidia-cusolver-cu12-11.6.1.9 nvidia-cusparse-cu12-12.3.1.170 nvidia-nvjitlink-cu12-12.4.127 pgmpy-1.0.0 pyro-api-0.1.2 pyro-ppl-1.9.1\n"
          ]
        }
      ]
    },
    {
      "cell_type": "code",
      "source": [],
      "metadata": {
        "id": "0WEs1RWWw3Tk"
      },
      "execution_count": null,
      "outputs": []
    }
  ]
}