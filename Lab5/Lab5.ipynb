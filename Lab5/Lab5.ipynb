{
  "nbformat": 4,
  "nbformat_minor": 0,
  "metadata": {
    "colab": {
      "provenance": []
    },
    "kernelspec": {
      "name": "python3",
      "display_name": "Python 3"
    },
    "language_info": {
      "name": "python"
    }
  },
  "cells": [
    {
      "cell_type": "code",
      "execution_count": 1,
      "metadata": {
        "colab": {
          "base_uri": "https://localhost:8080/",
          "height": 392
        },
        "id": "nwlPU5G0W2SK",
        "outputId": "654e44c7-6285-4247-c733-79ead17c51dc"
      },
      "outputs": [
        {
          "output_type": "error",
          "ename": "ModuleNotFoundError",
          "evalue": "No module named 'chess'",
          "traceback": [
            "\u001b[0;31m---------------------------------------------------------------------------\u001b[0m",
            "\u001b[0;31mModuleNotFoundError\u001b[0m                       Traceback (most recent call last)",
            "\u001b[0;32m<ipython-input-1-b26569af6c21>\u001b[0m in \u001b[0;36m<cell line: 0>\u001b[0;34m()\u001b[0m\n\u001b[0;32m----> 1\u001b[0;31m \u001b[0;32mimport\u001b[0m \u001b[0mchess\u001b[0m\u001b[0;34m\u001b[0m\u001b[0;34m\u001b[0m\u001b[0m\n\u001b[0m\u001b[1;32m      2\u001b[0m \u001b[0;32mimport\u001b[0m \u001b[0mheapq\u001b[0m\u001b[0;34m\u001b[0m\u001b[0;34m\u001b[0m\u001b[0m\n\u001b[1;32m      3\u001b[0m \u001b[0;34m\u001b[0m\u001b[0m\n\u001b[1;32m      4\u001b[0m \u001b[0;32mdef\u001b[0m \u001b[0mscore_position\u001b[0m\u001b[0;34m(\u001b[0m\u001b[0mboard\u001b[0m\u001b[0;34m)\u001b[0m\u001b[0;34m:\u001b[0m\u001b[0;34m\u001b[0m\u001b[0;34m\u001b[0m\u001b[0m\n\u001b[1;32m      5\u001b[0m     \u001b[0;32mif\u001b[0m \u001b[0mboard\u001b[0m\u001b[0;34m.\u001b[0m\u001b[0mis_checkmate\u001b[0m\u001b[0;34m(\u001b[0m\u001b[0;34m)\u001b[0m\u001b[0;34m:\u001b[0m\u001b[0;34m\u001b[0m\u001b[0;34m\u001b[0m\u001b[0m\n",
            "\u001b[0;31mModuleNotFoundError\u001b[0m: No module named 'chess'",
            "",
            "\u001b[0;31m---------------------------------------------------------------------------\u001b[0;32m\nNOTE: If your import is failing due to a missing package, you can\nmanually install dependencies using either !pip or !apt.\n\nTo view examples of installing some common dependencies, click the\n\"Open Examples\" button below.\n\u001b[0;31m---------------------------------------------------------------------------\u001b[0m\n"
          ],
          "errorDetails": {
            "actions": [
              {
                "action": "open_url",
                "actionText": "Open Examples",
                "url": "/notebooks/snippets/importing_libraries.ipynb"
              }
            ]
          }
        }
      ],
      "source": [
        "import chess\n",
        "import heapq\n",
        "\n",
        "def score_position(board):\n",
        "    if board.is_checkmate():\n",
        "        return -10000 if board.turn else 10000\n",
        "\n",
        "    values = {\n",
        "        chess.PAWN: 100,\n",
        "        chess.KNIGHT: 320,\n",
        "        chess.BISHOP: 330,\n",
        "        chess.ROOK: 500,\n",
        "        chess.QUEEN: 900,\n",
        "        chess.KING: 20000\n",
        "    }\n",
        "\n",
        "    score = 0\n",
        "    for sq in chess.SQUARES:\n",
        "        piece = board.piece_at(sq)\n",
        "        if piece:\n",
        "            val = values[piece.piece_type]\n",
        "            score += val if piece.color == chess.WHITE else -val\n",
        "\n",
        "    return score\n",
        "\n",
        "def beam_search_moves(board, beam_width=3, max_depth=3):\n",
        "    beam = [(score_position(board), [], board.copy())]\n",
        "\n",
        "    for _ in range(max_depth):\n",
        "        next_moves = []\n",
        "\n",
        "        for val, sequence, curr_board in beam:\n",
        "            if curr_board.is_game_over():\n",
        "                next_moves.append((val, sequence, curr_board))\n",
        "                continue\n",
        "\n",
        "            for move in curr_board.legal_moves:\n",
        "                temp_board = curr_board.copy()\n",
        "                temp_board.push(move)\n",
        "                eval_score = -score_position(temp_board)\n",
        "                next_moves.append((eval_score, sequence + [move], temp_board))\n",
        "\n",
        "        if not next_moves:\n",
        "            break\n",
        "\n",
        "        beam = heapq.nlargest(beam_width, next_moves, key=lambda x: x[0])\n",
        "\n",
        "    if beam:\n",
        "        final_score, best_seq, _ = beam[0]\n",
        "        return best_seq, final_score\n",
        "\n",
        "    return [], 0\n",
        "\n",
        "def format_moves(moves):\n",
        "    return \" → \".join(move.uci() for move in moves)\n",
        "\n",
        "def main():\n",
        "    board = chess.Board()\n",
        "    width = 3\n",
        "    depth = 3\n",
        "\n",
        "    best_moves, score = beam_search_moves(board, width, depth)\n",
        "\n",
        "    print(board)\n",
        "\n",
        "    if best_moves:\n",
        "        print(f\"Best sequence: {format_moves(best_moves)}\")\n",
        "        print(f\"Score: {score}\")\n",
        "        print(f\"Recommended move: {best_moves[0].uci()}\")\n",
        "    else:\n",
        "        print(\"No moves found.\")\n",
        "\n",
        "if __name__ == \"__main__\":\n",
        "    main()\n"
      ]
    },
    {
      "cell_type": "code",
      "source": [
        "import random\n",
        "import math\n",
        "import time\n",
        "\n",
        "def distance(p1, p2):\n",
        "    return math.hypot(p1[0] - p2[0], p1[1] - p2[1])\n",
        "\n",
        "def total_distance(route, coords):\n",
        "    return sum(distance(coords[route[i]], coords[route[(i + 1) % len(route)]]) for i in range(len(route)))\n",
        "\n",
        "def generate_neighbors(route):\n",
        "    n = len(route)\n",
        "    return [route[:i] + [route[j]] + route[i+1:j] + [route[i]] + route[j+1:] for i in range(n) for j in range(i+1, n)]\n",
        "\n",
        "def hill_climb(coords, max_iters=1000):\n",
        "    n = len(coords)\n",
        "    current = list(range(n))\n",
        "    random.shuffle(current)\n",
        "    best_dist = total_distance(current, coords)\n",
        "\n",
        "    for _ in range(max_iters):\n",
        "        neighbors = generate_neighbors(current)\n",
        "        next_route = min(neighbors, key=lambda r: total_distance(r, coords))\n",
        "        next_dist = total_distance(next_route, coords)\n",
        "\n",
        "        if next_dist < best_dist:\n",
        "            current, best_dist = next_route, next_dist\n",
        "        else:\n",
        "            break\n",
        "\n",
        "    return current, best_dist\n",
        "\n",
        "def main():\n",
        "    coords = [\n",
        "        (25, 70), (70, 80), (100, 50), (30, 40),\n",
        "        (10, 20), (75, 30), (60, 90), (40, 60),\n",
        "        (90, 20), (50, 50), (20, 80), (95, 70)\n",
        "    ]\n",
        "\n",
        "    start = time.time()\n",
        "    route, dist = hill_climb(coords)\n",
        "    end = time.time()\n",
        "\n",
        "    print(\"Optimized Route:\", route)\n",
        "    print(f\"Total Distance: {dist:.2f}\")\n",
        "    print(f\"Time Taken: {end - start:.2f}s\")\n",
        "\n",
        "if __name__ == \"__main__\":\n",
        "    main()\n"
      ],
      "metadata": {
        "id": "O29SWCLcIIdh",
        "colab": {
          "base_uri": "https://localhost:8080/"
        },
        "outputId": "7bf2fe21-7aa4-4bf2-da81-00358e146e8a"
      },
      "execution_count": null,
      "outputs": [
        {
          "output_type": "stream",
          "name": "stdout",
          "text": [
            "Optimized Route: [1, 11, 2, 8, 5, 4, 3, 9, 7, 0, 10, 6]\n",
            "Total Distance: 312.32\n",
            "Time Taken: 0.00s\n"
          ]
        }
      ]
    },
    {
      "cell_type": "code",
      "source": [
        "import random\n",
        "import math\n",
        "\n",
        "NUM_CITIES = 10\n",
        "POPULATION_SIZE = 50\n",
        "ELITE_SIZE = 10\n",
        "MUTATION_RATE = 0.01\n",
        "MAX_GENERATIONS = 500\n",
        "\n",
        "def generate_cities(num_cities=NUM_CITIES, seed=42):\n",
        "    random.seed(seed)\n",
        "    return [(random.randint(0, 100), random.randint(0, 100)) for _ in range(num_cities)]\n",
        "\n",
        "def calculate_distance(c1, c2):\n",
        "    return math.hypot(c1[0] - c2[0], c1[1] - c2[1])\n",
        "\n",
        "def route_distance(route, cities):\n",
        "    return sum(calculate_distance(cities[route[i]], cities[route[(i + 1) % len(route)]]) for i in range(len(route)))\n",
        "\n",
        "def fitness(route, cities):\n",
        "    dist = route_distance(route, cities)\n",
        "    return 1 / dist if dist > 0 else float('inf')\n",
        "\n",
        "def initialize_population(size=POPULATION_SIZE):\n",
        "    base = list(range(NUM_CITIES))\n",
        "    return [random.sample(base, len(base)) for _ in range(size)]\n",
        "\n",
        "def rank_population(population, cities):\n",
        "    return sorted(population, key=lambda r: fitness(r, cities), reverse=True)\n",
        "\n",
        "def select(pop_ranked):\n",
        "    elite = pop_ranked[:ELITE_SIZE]\n",
        "    rest = random.choices(pop_ranked, weights=[fitness(r, cities) for r in pop_ranked], k=POPULATION_SIZE - ELITE_SIZE)\n",
        "    return elite + rest\n",
        "\n",
        "def crossover(p1, p2):\n",
        "    start, end = sorted(random.sample(range(len(p1)), 2))\n",
        "    child = [-1] * len(p1)\n",
        "    child[start:end+1] = p1[start:end+1]\n",
        "    fill = [c for c in p2 if c not in child]\n",
        "    pointer = 0\n",
        "    for i in range(len(child)):\n",
        "        if child[i] == -1:\n",
        "            child[i] = fill[pointer]\n",
        "            pointer += 1\n",
        "    return child\n",
        "\n",
        "def mutate(route):\n",
        "    for i in range(len(route)):\n",
        "        if random.random() < MUTATION_RATE:\n",
        "            j = random.randint(0, len(route) - 1)\n",
        "            route[i], route[j] = route[j], route[i]\n",
        "    return route\n",
        "\n",
        "def evolve_population(pop, cities):\n",
        "    ranked = rank_population(pop, cities)\n",
        "    selected = select(ranked)\n",
        "    children = [selected[i] if i < ELITE_SIZE else crossover(random.choice(selected), random.choice(selected)) for i in range(POPULATION_SIZE)]\n",
        "    return [mutate(child) for child in children]\n",
        "\n",
        "def genetic_algorithm(cities):\n",
        "    population = initialize_population()\n",
        "    best_route = None\n",
        "    best_distance = float('inf')\n",
        "\n",
        "    for _ in range(MAX_GENERATIONS):\n",
        "        population = evolve_population(population, cities)\n",
        "        current_best = rank_population(population, cities)[0]\n",
        "        current_distance = route_distance(current_best, cities)\n",
        "        if current_distance < best_distance:\n",
        "            best_distance = current_distance\n",
        "            best_route = current_best\n",
        "\n",
        "    return best_route, best_distance\n",
        "\n",
        "def main():\n",
        "    global cities\n",
        "    cities = generate_cities()\n",
        "    best_route, best_distance = genetic_algorithm(cities)\n",
        "    print(\"Best route:\", best_route)\n",
        "    print(\"Distance:\", round(best_distance, 2))\n",
        "\n",
        "if __name__ == \"__main__\":\n",
        "    main()\n"
      ],
      "metadata": {
        "colab": {
          "base_uri": "https://localhost:8080/"
        },
        "id": "50yU9RQbMksy",
        "outputId": "26030cdd-3262-424a-c5fc-a5248d7f25c9"
      },
      "execution_count": null,
      "outputs": [
        {
          "output_type": "stream",
          "name": "stdout",
          "text": [
            "Best route: [7, 1, 0, 6, 2, 3, 8, 9, 4, 5]\n",
            "Distance: 370.44\n"
          ]
        }
      ]
    },
    {
      "cell_type": "code",
      "source": [
        "!pip install python-chess\n"
      ],
      "metadata": {
        "colab": {
          "base_uri": "https://localhost:8080/"
        },
        "id": "QNF4TU1pZ6uV",
        "outputId": "b542632f-284d-4615-bd45-af920c90bb76"
      },
      "execution_count": 2,
      "outputs": [
        {
          "output_type": "stream",
          "name": "stdout",
          "text": [
            "Collecting python-chess\n",
            "  Downloading python_chess-1.999-py3-none-any.whl.metadata (776 bytes)\n",
            "Collecting chess<2,>=1 (from python-chess)\n",
            "  Downloading chess-1.11.2.tar.gz (6.1 MB)\n",
            "\u001b[2K     \u001b[90m━━━━━━━━━━━━━━━━━━━━━━━━━━━━━━━━━━━━━━━━\u001b[0m \u001b[32m6.1/6.1 MB\u001b[0m \u001b[31m45.5 MB/s\u001b[0m eta \u001b[36m0:00:00\u001b[0m\n",
            "\u001b[?25h  Preparing metadata (setup.py) ... \u001b[?25l\u001b[?25hdone\n",
            "Downloading python_chess-1.999-py3-none-any.whl (1.4 kB)\n",
            "Building wheels for collected packages: chess\n",
            "  Building wheel for chess (setup.py) ... \u001b[?25l\u001b[?25hdone\n",
            "  Created wheel for chess: filename=chess-1.11.2-py3-none-any.whl size=147775 sha256=e15f3956c881c30c175365b188b286cb726f58d81e43b48faeb3cad86166cd95\n",
            "  Stored in directory: /root/.cache/pip/wheels/fb/5d/5c/59a62d8a695285e59ec9c1f66add6f8a9ac4152499a2be0113\n",
            "Successfully built chess\n",
            "Installing collected packages: chess, python-chess\n",
            "Successfully installed chess-1.11.2 python-chess-1.999\n"
          ]
        }
      ]
    }
  ]
}